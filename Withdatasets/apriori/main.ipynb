{
 "cells": [
  {
   "cell_type": "code",
   "execution_count": 2,
   "metadata": {},
   "outputs": [
    {
     "name": "stdout",
     "output_type": "stream",
     "text": [
      "[['apple'], ['banana'], ['banana', 'apple']]\n"
     ]
    }
   ],
   "source": [
    "# import required libraries\n",
    "import itertools\n",
    "\n",
    "# define a function to generate frequent itemsets\n",
    "def generate_frequent_itemsets(transactions, min_support):\n",
    "    \n",
    "    # Step 1: Create a dictionary of candidate items and their counts\n",
    "    candidate_items = {}\n",
    "    for transaction in transactions:\n",
    "        for item in transaction:\n",
    "            if item in candidate_items:\n",
    "                candidate_items[item] += 1\n",
    "            else:\n",
    "                candidate_items[item] = 1\n",
    "    \n",
    "    # Step 2: Generate frequent itemsets\n",
    "    frequent_itemsets = []\n",
    "    for item, count in candidate_items.items():\n",
    "        if count/len(transactions) >= min_support:\n",
    "            frequent_itemsets.append([item])\n",
    "            \n",
    "    k = 2\n",
    "    while True:\n",
    "        candidate_itemsets = [frozenset(itemset) for itemset in itertools.combinations(set.union(*map(set, frequent_itemsets)), k)]\n",
    "        if not candidate_itemsets:\n",
    "            break\n",
    "        \n",
    "        candidate_counts = {itemset: 0 for itemset in candidate_itemsets}\n",
    "        for transaction in transactions:\n",
    "            for itemset in candidate_itemsets:\n",
    "                if itemset.issubset(transaction):\n",
    "                    candidate_counts[itemset] += 1\n",
    "        \n",
    "        frequent_itemsets_k = []\n",
    "        for itemset, count in candidate_counts.items():\n",
    "            if count/len(transactions) >= min_support:\n",
    "                frequent_itemsets_k.append(list(itemset))\n",
    "                \n",
    "        if not frequent_itemsets_k:\n",
    "            break\n",
    "                \n",
    "        frequent_itemsets.extend(frequent_itemsets_k)\n",
    "        k += 1\n",
    "        \n",
    "    return frequent_itemsets\n",
    "\n",
    "transactions = [\n",
    "    ['apple', 'banana', 'cherry'],\n",
    "    ['apple', 'banana'],\n",
    "    ['apple', 'pear'],\n",
    "    ['banana']\n",
    "]\n",
    "min_support = 0.5\n",
    "\n",
    "frequent_itemsets = generate_frequent_itemsets(transactions, min_support)\n",
    "print(frequent_itemsets)\n"
   ]
  },
  {
   "cell_type": "code",
   "execution_count": 3,
   "metadata": {},
   "outputs": [],
   "source": [
    "import itertools\n"
   ]
  },
  {
   "cell_type": "code",
   "execution_count": 4,
   "metadata": {},
   "outputs": [],
   "source": [
    "# define a function to generate frequent itemsets\n",
    "def generate_frequent_itemsets(transactions, min_support):\n",
    "    \n",
    "    # Step 1: Create a dictionary of candidate items and their counts\n",
    "    candidate_items = {}\n",
    "    for transaction in transactions:\n",
    "        for item in transaction:\n",
    "            if item in candidate_items:\n",
    "                candidate_items[item] += 1\n",
    "            else:\n",
    "                candidate_items[item] = 1\n",
    "    \n",
    "    # Step 2: Generate frequent itemsets\n",
    "    frequent_itemsets = []\n",
    "    for item, count in candidate_items.items():\n",
    "        if count/len(transactions) >= min_support:\n",
    "            frequent_itemsets.append([item])\n",
    "            \n",
    "    k = 2\n",
    "    while True:\n",
    "        candidate_itemsets = [frozenset(itemset) for itemset in itertools.combinations(set.union(*map(set, frequent_itemsets)), k)]\n",
    "        if not candidate_itemsets:\n",
    "            break\n",
    "        \n",
    "        candidate_counts = {itemset: 0 for itemset in candidate_itemsets}\n",
    "        for transaction in transactions:\n",
    "            for itemset in candidate_itemsets:\n",
    "                if itemset.issubset(transaction):\n",
    "                    candidate_counts[itemset] += 1\n",
    "        \n",
    "        frequent_itemsets_k = []\n",
    "        for itemset, count in candidate_counts.items():\n",
    "            if count/len(transactions) >= min_support:\n",
    "                frequent_itemsets_k.append(list(itemset))\n",
    "                \n",
    "        if not frequent_itemsets_k:\n",
    "            break\n",
    "                \n",
    "        frequent_itemsets.extend(frequent_itemsets_k)\n",
    "        k += 1\n",
    "        \n",
    "    return frequent_itemsets"
   ]
  },
  {
   "cell_type": "code",
   "execution_count": 5,
   "metadata": {},
   "outputs": [],
   "source": [
    "transactions = [\n",
    "['apple', 'banana', 'cherry'],\n",
    "['apple', 'banana'],\n",
    "['apple', 'pear'],\n",
    "['banana']\n",
    "]\n",
    "min_support = 0.5"
   ]
  },
  {
   "cell_type": "code",
   "execution_count": 6,
   "metadata": {},
   "outputs": [
    {
     "name": "stdout",
     "output_type": "stream",
     "text": [
      "[['apple'], ['banana'], ['banana', 'apple']]\n"
     ]
    }
   ],
   "source": [
    "frequent_itemset = generate_frequent_itemsets(transactions, min_support)\n",
    "print(frequent_itemset)"
   ]
  },
  {
   "cell_type": "code",
   "execution_count": null,
   "metadata": {},
   "outputs": [],
   "source": []
  }
 ],
 "metadata": {
  "kernelspec": {
   "display_name": "Python 3",
   "language": "python",
   "name": "python3"
  },
  "language_info": {
   "codemirror_mode": {
    "name": "ipython",
    "version": 3
   },
   "file_extension": ".py",
   "mimetype": "text/x-python",
   "name": "python",
   "nbconvert_exporter": "python",
   "pygments_lexer": "ipython3",
   "version": "3.10.7"
  },
  "orig_nbformat": 4
 },
 "nbformat": 4,
 "nbformat_minor": 2
}
